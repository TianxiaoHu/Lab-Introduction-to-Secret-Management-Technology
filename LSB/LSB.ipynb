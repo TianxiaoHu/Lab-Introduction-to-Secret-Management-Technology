{
 "cells": [
  {
   "cell_type": "markdown",
   "metadata": {},
   "source": [
    "# Experiment Background  \n",
    "\n",
    "In computing, the least significant bit(LSB) is the bit position in a binary integer giving the units value, that is, determining whether the number is even or odd. The LSB is sometimes referred to as the right-most bit, due to the convention in positional notation of writing less significant digits further to the right.  \n",
    "Least significant bits are frequently employed in steganography. For example, RGB graphs have 3 color columns: red(R), green(G) and blue(B), which range from 0~255. Vector (0, 0, 0) indicates that a pixel is totally black and (255, 255, 255) represents purely white. Hence, if we only change a pixel's least significant bit so that the graph contains data, the slight difference can't be distinguished by naked eyes.\n",
    "Python Image Library is a perfect tool for dealing with graphs with python. The following report will describe the encryption and decryption steps in details. A logo of Fudan University in BMP format(150×150) is taken as an example for its lossless compression and the ciphertext is \"FudanUniversity\"."
   ]
  },
  {
   "cell_type": "markdown",
   "metadata": {},
   "source": [
    "# Experiment Enviornment\n",
    "Processor: Intel(R) Core(TM) i5-4590 CPU@3.30GHz 3.30GHz  \n",
    "RAM: 8.00GB  \n",
    "System: Windows 10  \n",
    "Python interpreter: Anaconda 2.7.12"
   ]
  },
  {
   "cell_type": "markdown",
   "metadata": {},
   "source": [
    "# Simulation of LSB Encryption\n",
    "\n",
    "## Encryption  "
   ]
  },
  {
   "cell_type": "markdown",
   "metadata": {},
   "source": [
    "Import packages first"
   ]
  },
  {
   "cell_type": "code",
   "execution_count": null,
   "metadata": {},
   "outputs": [],
   "source": [
    "from PIL import Image\n",
    "import binascii\n",
    "import numpy as np"
   ]
  },
  {
   "cell_type": "markdown",
   "metadata": {},
   "source": [
    "Load the image"
   ]
  },
  {
   "cell_type": "code",
   "execution_count": null,
   "metadata": {},
   "outputs": [],
   "source": [
    "img = Image.open(r\"E:/Programming/LSB_encrypt/fudan_logo.bmp\")\n",
    "width, height = img.size"
   ]
  },
  {
   "cell_type": "markdown",
   "metadata": {},
   "source": [
    "Preview the image"
   ]
  },
  {
   "cell_type": "code",
   "execution_count": null,
   "metadata": {},
   "outputs": [],
   "source": [
    "img"
   ]
  },
  {
   "cell_type": "markdown",
   "metadata": {},
   "source": [
    "Preprocess the ciphertext: mark the end of string"
   ]
  },
  {
   "cell_type": "code",
   "execution_count": null,
   "metadata": {},
   "outputs": [],
   "source": [
    "infostr = \"FudanUniversity\"\n",
    "infostr = infostr + '\\0'"
   ]
  },
  {
   "cell_type": "markdown",
   "metadata": {},
   "source": [
    "Convert ASCII string into binary code"
   ]
  },
  {
   "cell_type": "code",
   "execution_count": null,
   "metadata": {},
   "outputs": [],
   "source": [
    "def asc2bin(ascstr):\n",
    "    binstr = bin(int(binascii.hexlify(ascstr), 16)).replace('0b', '')\n",
    "    return '0' * (8 - len(binstr) % 8) + binstr\n",
    "\n",
    "binstr = asc2bin(infostr)"
   ]
  },
  {
   "cell_type": "markdown",
   "metadata": {},
   "source": [
    "Get enough pixels to contain the binary data"
   ]
  },
  {
   "cell_type": "code",
   "execution_count": null,
   "metadata": {},
   "outputs": [],
   "source": [
    "def get_RGB_col(img, binstrlen):\n",
    "    pixnum = binstrlen / 3 + 1\n",
    "    R, G, B = [], [], []\n",
    "    for w in range(pixnum / height):\n",
    "        for h in range(height):\n",
    "            pixelr, pixelg, pixelb = img.getpixel((w, h))\n",
    "            R.append(pixelr)\n",
    "            G.append(pixelg)\n",
    "            B.append(pixelb)\n",
    "    for h in range(pixnum % height):\n",
    "        pixelr, pixelg, pixelb = img.getpixel((pixnum / height, h))\n",
    "        R.append(pixelr)\n",
    "        G.append(pixelg)\n",
    "        B.append(pixelb)\n",
    "    return R, G, B\n",
    "    \n",
    "Rcol, Gcol, Bcol = get_RGB_col(img, len(binstr))\n",
    "\n",
    "encrarr = list()\n",
    "for tmp in zip(Rcol, Gcol, Bcol):\n",
    "    encrarr.extend(list(tmp))\n",
    "encrarr = np.array(encrarr)"
   ]
  },
  {
   "cell_type": "markdown",
   "metadata": {},
   "source": [
    "Check the length"
   ]
  },
  {
   "cell_type": "code",
   "execution_count": null,
   "metadata": {},
   "outputs": [],
   "source": [
    "len(binstr)"
   ]
  },
  {
   "cell_type": "code",
   "execution_count": null,
   "metadata": {},
   "outputs": [],
   "source": [
    "len(encrarr)"
   ]
  },
  {
   "cell_type": "markdown",
   "metadata": {},
   "source": [
    "Turning string into a binary array"
   ]
  },
  {
   "cell_type": "code",
   "execution_count": null,
   "metadata": {},
   "outputs": [],
   "source": [
    "infoarr = []\n",
    "for i in range(len(binstr)):\n",
    "    infoarr.append(int(binstr[i]))\n",
    "# infoarr shoule be of same length as encrarr\n",
    "infoarr.extend([0] * (len(encrarr) - len(infoarr)))\n",
    "infoarr = np.array(infoarr)"
   ]
  },
  {
   "cell_type": "markdown",
   "metadata": {},
   "source": [
    "Change encrarr's least significant bits into binary data"
   ]
  },
  {
   "cell_type": "code",
   "execution_count": null,
   "metadata": {},
   "outputs": [],
   "source": [
    "encrarr = encrarr / 2 * 2 + infoarr"
   ]
  },
  {
   "cell_type": "markdown",
   "metadata": {},
   "source": [
    "Put the encrypted pixels back to graph"
   ]
  },
  {
   "cell_type": "code",
   "execution_count": null,
   "metadata": {},
   "outputs": [],
   "source": [
    "l = len(encrarr)\n",
    "encrarr = encrarr.reshape((l/3, 3))\n",
    "for i in range(encrarr.shape[0]):\n",
    "    img.putpixel((i/height, i%height), tuple(encrarr[i]))"
   ]
  },
  {
   "cell_type": "markdown",
   "metadata": {},
   "source": [
    "Save the graph"
   ]
  },
  {
   "cell_type": "code",
   "execution_count": null,
   "metadata": {},
   "outputs": [],
   "source": [
    "img.save(r\"E:/Programming/LSB_encrypt/fudan_logo_LSB.bmp\")"
   ]
  },
  {
   "cell_type": "markdown",
   "metadata": {},
   "source": [
    "Show the encrypted graph"
   ]
  },
  {
   "cell_type": "code",
   "execution_count": null,
   "metadata": {},
   "outputs": [],
   "source": [
    "img"
   ]
  },
  {
   "cell_type": "markdown",
   "metadata": {},
   "source": [
    "It turns out that we can hardly recognize the difference"
   ]
  },
  {
   "cell_type": "markdown",
   "metadata": {},
   "source": [
    "## Decryption"
   ]
  },
  {
   "cell_type": "markdown",
   "metadata": {},
   "source": [
    "Load the image"
   ]
  },
  {
   "cell_type": "code",
   "execution_count": null,
   "metadata": {},
   "outputs": [],
   "source": [
    "img = Image.open(r\"E:/Programming/LSB_encrypt/fudan_logo_LSB.bmp\")\n",
    "width, height = img.size"
   ]
  },
  {
   "cell_type": "markdown",
   "metadata": {},
   "source": [
    "Extract binary code until meet the string end mark"
   ]
  },
  {
   "cell_type": "code",
   "execution_count": null,
   "metadata": {},
   "outputs": [],
   "source": [
    "binarr = []\n",
    "end = [0] * 8\n",
    "for w in range(width):\n",
    "    for h in range(height):\n",
    "        tmp = np.array(img.getpixel((w, h)))\n",
    "        binarr.extend(tmp - tmp / 2 * 2)\n",
    "        if binarr[(len(binarr) - 8) / 8 * 8: len(binarr) / 8 * 8]==end:\n",
    "                break\n",
    "    else:\n",
    "        continue\n",
    "    break"
   ]
  },
  {
   "cell_type": "markdown",
   "metadata": {},
   "source": [
    "Check the length "
   ]
  },
  {
   "cell_type": "code",
   "execution_count": null,
   "metadata": {},
   "outputs": [],
   "source": [
    "len(binarr)"
   ]
  },
  {
   "cell_type": "markdown",
   "metadata": {},
   "source": [
    "Drop the string end mark"
   ]
  },
  {
   "cell_type": "code",
   "execution_count": null,
   "metadata": {},
   "outputs": [],
   "source": [
    "binarr = binarr[0: (len(binarr) - 8) / 8 * 8]"
   ]
  },
  {
   "cell_type": "code",
   "execution_count": null,
   "metadata": {},
   "outputs": [],
   "source": [
    "len(binarr)"
   ]
  },
  {
   "cell_type": "markdown",
   "metadata": {},
   "source": [
    "Convert binary array into binary string"
   ]
  },
  {
   "cell_type": "code",
   "execution_count": null,
   "metadata": {},
   "outputs": [],
   "source": [
    "binstr = ''\n",
    "for i in range(len(binarr)):\n",
    "    binstr = binstr + str(binarr[i])"
   ]
  },
  {
   "cell_type": "markdown",
   "metadata": {},
   "source": [
    "Decode binary string to ASCII"
   ]
  },
  {
   "cell_type": "code",
   "execution_count": null,
   "metadata": {},
   "outputs": [],
   "source": [
    "def bin2asc(binstr):\n",
    "    hexstr = hex(int(binstr, 2)).replace('0x', '').replace('L', '')\n",
    "    return binascii.unhexlify(hexstr)\n",
    "\n",
    "bin2asc(binstr)"
   ]
  },
  {
   "cell_type": "markdown",
   "metadata": {},
   "source": [
    "We have successfully extracted the ciphertext"
   ]
  }
 ],
 "metadata": {
  "anaconda-cloud": {},
  "kernelspec": {
   "display_name": "Python [conda root]",
   "language": "python",
   "name": "conda-root-py"
  },
  "language_info": {
   "codemirror_mode": {
    "name": "ipython",
    "version": 2.0
   },
   "file_extension": ".py",
   "mimetype": "text/x-python",
   "name": "python",
   "nbconvert_exporter": "python",
   "pygments_lexer": "ipython2"
  }
 },
 "nbformat": 4,
 "nbformat_minor": 0
}
